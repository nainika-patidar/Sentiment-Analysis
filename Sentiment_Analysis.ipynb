{
  "nbformat": 4,
  "nbformat_minor": 0,
  "metadata": {
    "colab": {
      "name": "Sentiment Analysis.ipynb",
      "provenance": [],
      "collapsed_sections": []
    },
    "kernelspec": {
      "display_name": "Python 3",
      "name": "python3"
    },
    "language_info": {
      "name": "python"
    }
  },
  "cells": [
    {
      "cell_type": "markdown",
      "metadata": {
        "id": "xC493gN6PRFv"
      },
      "source": [
        "This is a sentiment analysis program that parses the tweets fetched from twitter using Python"
      ]
    },
    {
      "cell_type": "code",
      "metadata": {
        "id": "zgx1D7pjO5Fo"
      },
      "source": [
        "#importing the required libraries\n",
        "import tweepy\n",
        "from textblob import TextBlob\n",
        "from wordcloud import WordCloud\n",
        "import pandas as pd\n",
        "import numpy as np\n",
        "import re\n",
        "import matplotlib.pyplot as plt\n",
        "plt.style.use('fivethirtyeight')"
      ],
      "execution_count": 1,
      "outputs": []
    },
    {
      "cell_type": "code",
      "metadata": {
        "colab": {
          "resources": {
            "http://localhost:8080/nbextensions/google.colab/files.js": {
              "data": "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",
              "ok": true,
              "headers": [
                [
                  "content-type",
                  "application/javascript"
                ]
              ],
              "status": 200,
              "status_text": ""
            }
          },
          "base_uri": "https://localhost:8080/",
          "height": 73
        },
        "id": "CDL2YzotQK9K",
        "outputId": "41fe5563-f9d9-45e6-a8ca-eb06f968bb96"
      },
      "source": [
        "#load the data\n",
        "from google.colab import files\n",
        "uploaded = files.upload()"
      ],
      "execution_count": 2,
      "outputs": [
        {
          "output_type": "display_data",
          "data": {
            "text/html": [
              "\n",
              "     <input type=\"file\" id=\"files-2058cb68-d017-46c8-9e6d-192d75ed2d71\" name=\"files[]\" multiple disabled\n",
              "        style=\"border:none\" />\n",
              "     <output id=\"result-2058cb68-d017-46c8-9e6d-192d75ed2d71\">\n",
              "      Upload widget is only available when the cell has been executed in the\n",
              "      current browser session. Please rerun this cell to enable.\n",
              "      </output>\n",
              "      <script src=\"/nbextensions/google.colab/files.js\"></script> "
            ],
            "text/plain": [
              "<IPython.core.display.HTML object>"
            ]
          },
          "metadata": {
            "tags": []
          }
        },
        {
          "output_type": "stream",
          "text": [
            "Saving login.csv to login.csv\n"
          ],
          "name": "stdout"
        }
      ]
    },
    {
      "cell_type": "code",
      "metadata": {
        "id": "zndcFluiMQ6t"
      },
      "source": [
        "#get the dat\n",
        "log = pd.read_csv('login.csv')"
      ],
      "execution_count": 3,
      "outputs": []
    },
    {
      "cell_type": "code",
      "metadata": {
        "id": "-9UyAD1Ldhqb"
      },
      "source": [
        "consumerKey = log['key'][0]\n",
        "consumerSecret = log['key'][1]\n",
        "accessToken = log['key'][2]\n",
        "accessTokenSecret = log['key'][3]"
      ],
      "execution_count": 7,
      "outputs": []
    },
    {
      "cell_type": "code",
      "metadata": {
        "id": "KAZHL-wMOeGN"
      },
      "source": [
        "#create the authentication object\n",
        "authenticate = tweepy.OAuthHandler(consumerKey, comsumerSecret)\n",
        "\n",
        "#set the access token\n",
        "authenticate.set_access_token(accessToken, accessTokenSecret)\n",
        "\n",
        "#create the api object\n",
        "api = tweepy.API(authenticate, wait_on_rate_limit = True)"
      ],
      "execution_count": 8,
      "outputs": []
    },
    {
      "cell_type": "code",
      "metadata": {
        "colab": {
          "base_uri": "https://localhost:8080/"
        },
        "id": "6j8PPGNISVLJ",
        "outputId": "a2ae037c-2a5c-4298-cadd-af5bcbfe90f5"
      },
      "source": [
        "#extract 100 tweet from the twitter user\n",
        "posts = api.user_timeline(screen_name = \"AndrewYNg\", count = 100, lang = \"en\", tweet_mode = \"extended\")\n",
        "\n",
        "#print last 5 tweet from this account\n",
        "print(\"show the resent 5 tweets: \")\n",
        "i = 1\n",
        "for tweet in posts[0:5]:\n",
        "  print(str(i) + ') '+ tweet.full_text + '\\n')\n",
        "  i = i+1"
      ],
      "execution_count": 9,
      "outputs": [
        {
          "output_type": "stream",
          "text": [
            "show the resent 5 tweets: \n",
            "1) Hoping this will more closely reflect ML application practice, and also spur innovative research on data-centric AI development. What do you think? (2/2)\n",
            "\n",
            "2) Would love your feedback on this: AI Systems = Code (model/algorithm) + Data. Most academic benchmarks/competitions hold the Data fixed, and let teams work on the Code. Thinking of organizing something where we hold the Code fixed, and ask teams to work on the Data. (1/2)\n",
            "\n",
            "3) @HiWoebot Congrats @alisonmdarcy and the @HiWoebot team on this incredible result! We need bots to be transparent about their identity and not pretend to be a human. Woebot's ability to form an emotional bond with people, while being honest and transparent, is exciting.\n",
            "\n",
            "4) @HariAakashK @robert_crowe @DeepLearningAI_ Thanks @HariAakashK and congrats on finishing the first course so quickly!\n",
            "\n",
            "5) Thrilled https://t.co/R0m407WZos’s Machine Learning Engineering for Production (MLOps) specialization is now available on Coursera! Learn to build &amp; deploy AI systems that run in production, and develop your production-ready skills: https://t.co/tYJoNtH18n @lmoroney @robert_crowe\n",
            "\n"
          ],
          "name": "stdout"
        }
      ]
    },
    {
      "cell_type": "code",
      "metadata": {
        "colab": {
          "base_uri": "https://localhost:8080/",
          "height": 415
        },
        "id": "w8kNQPMqf6D4",
        "outputId": "38243351-25cc-4314-817c-565f642699e7"
      },
      "source": [
        "#create a dataframen with column tweet\n",
        "df = pd.DataFrame( [tweet.full_text for tweet in posts], columns=['Tweets'])\n",
        "\n",
        "#show the first 5 rows\n",
        "df.head()\n",
        "df"
      ],
      "execution_count": 10,
      "outputs": [
        {
          "output_type": "execute_result",
          "data": {
            "text/html": [
              "<div>\n",
              "<style scoped>\n",
              "    .dataframe tbody tr th:only-of-type {\n",
              "        vertical-align: middle;\n",
              "    }\n",
              "\n",
              "    .dataframe tbody tr th {\n",
              "        vertical-align: top;\n",
              "    }\n",
              "\n",
              "    .dataframe thead th {\n",
              "        text-align: right;\n",
              "    }\n",
              "</style>\n",
              "<table border=\"1\" class=\"dataframe\">\n",
              "  <thead>\n",
              "    <tr style=\"text-align: right;\">\n",
              "      <th></th>\n",
              "      <th>Tweets</th>\n",
              "    </tr>\n",
              "  </thead>\n",
              "  <tbody>\n",
              "    <tr>\n",
              "      <th>0</th>\n",
              "      <td>Hoping this will more closely reflect ML appli...</td>\n",
              "    </tr>\n",
              "    <tr>\n",
              "      <th>1</th>\n",
              "      <td>Would love your feedback on this: AI Systems =...</td>\n",
              "    </tr>\n",
              "    <tr>\n",
              "      <th>2</th>\n",
              "      <td>@HiWoebot Congrats @alisonmdarcy and the @HiWo...</td>\n",
              "    </tr>\n",
              "    <tr>\n",
              "      <th>3</th>\n",
              "      <td>@HariAakashK @robert_crowe @DeepLearningAI_ Th...</td>\n",
              "    </tr>\n",
              "    <tr>\n",
              "      <th>4</th>\n",
              "      <td>Thrilled https://t.co/R0m407WZos’s Machine Lea...</td>\n",
              "    </tr>\n",
              "    <tr>\n",
              "      <th>...</th>\n",
              "      <td>...</td>\n",
              "    </tr>\n",
              "    <tr>\n",
              "      <th>95</th>\n",
              "      <td>I've listened to several of Shakira's songs ov...</td>\n",
              "    </tr>\n",
              "    <tr>\n",
              "      <th>96</th>\n",
              "      <td>Social distancing is needed to keep us safe. S...</td>\n",
              "    </tr>\n",
              "    <tr>\n",
              "      <th>97</th>\n",
              "      <td>One of the fastest-growing AI applications is ...</td>\n",
              "    </tr>\n",
              "    <tr>\n",
              "      <th>98</th>\n",
              "      <td>Many people are going through a hard time--anx...</td>\n",
              "    </tr>\n",
              "    <tr>\n",
              "      <th>99</th>\n",
              "      <td>Kudos to @jack for his $1B donation for Covid-...</td>\n",
              "    </tr>\n",
              "  </tbody>\n",
              "</table>\n",
              "<p>100 rows × 1 columns</p>\n",
              "</div>"
            ],
            "text/plain": [
              "                                               Tweets\n",
              "0   Hoping this will more closely reflect ML appli...\n",
              "1   Would love your feedback on this: AI Systems =...\n",
              "2   @HiWoebot Congrats @alisonmdarcy and the @HiWo...\n",
              "3   @HariAakashK @robert_crowe @DeepLearningAI_ Th...\n",
              "4   Thrilled https://t.co/R0m407WZos’s Machine Lea...\n",
              "..                                                ...\n",
              "95  I've listened to several of Shakira's songs ov...\n",
              "96  Social distancing is needed to keep us safe. S...\n",
              "97  One of the fastest-growing AI applications is ...\n",
              "98  Many people are going through a hard time--anx...\n",
              "99  Kudos to @jack for his $1B donation for Covid-...\n",
              "\n",
              "[100 rows x 1 columns]"
            ]
          },
          "metadata": {
            "tags": []
          },
          "execution_count": 10
        }
      ]
    },
    {
      "cell_type": "code",
      "metadata": {
        "colab": {
          "base_uri": "https://localhost:8080/",
          "height": 415
        },
        "id": "OMWATStFfP3e",
        "outputId": "2b236132-a70c-47a6-d564-f0d445043f83"
      },
      "source": [
        "#data cleaning\n",
        "#create a function to clean the tweets\n",
        "def cleanTxt(text):\n",
        "  text = re.sub(r'@[A-Za-z0-9]+', '',text) #remove @mentions\n",
        "  text = re.sub(r'#','',text) #remove '#' symbols\n",
        "  text = re.sub(r'RT[\\s]?:', '', text) #remove RT\n",
        "  text = re.sub(r'https?:\\/\\/\\S+','',text) #remove the hyperlinks\n",
        "\n",
        "  return text\n",
        "df['Tweets'] = df['Tweets'].apply(cleanTxt)\n",
        "\n",
        "#show the clean text\n",
        "df"
      ],
      "execution_count": 11,
      "outputs": [
        {
          "output_type": "execute_result",
          "data": {
            "text/html": [
              "<div>\n",
              "<style scoped>\n",
              "    .dataframe tbody tr th:only-of-type {\n",
              "        vertical-align: middle;\n",
              "    }\n",
              "\n",
              "    .dataframe tbody tr th {\n",
              "        vertical-align: top;\n",
              "    }\n",
              "\n",
              "    .dataframe thead th {\n",
              "        text-align: right;\n",
              "    }\n",
              "</style>\n",
              "<table border=\"1\" class=\"dataframe\">\n",
              "  <thead>\n",
              "    <tr style=\"text-align: right;\">\n",
              "      <th></th>\n",
              "      <th>Tweets</th>\n",
              "    </tr>\n",
              "  </thead>\n",
              "  <tbody>\n",
              "    <tr>\n",
              "      <th>0</th>\n",
              "      <td>Hoping this will more closely reflect ML appli...</td>\n",
              "    </tr>\n",
              "    <tr>\n",
              "      <th>1</th>\n",
              "      <td>Would love your feedback on this: AI Systems =...</td>\n",
              "    </tr>\n",
              "    <tr>\n",
              "      <th>2</th>\n",
              "      <td>Congrats  and the  team on this incredible re...</td>\n",
              "    </tr>\n",
              "    <tr>\n",
              "      <th>3</th>\n",
              "      <td>_crowe _ Thanks  and congrats on finishing th...</td>\n",
              "    </tr>\n",
              "    <tr>\n",
              "      <th>4</th>\n",
              "      <td>Thrilled  Machine Learning Engineering for Pro...</td>\n",
              "    </tr>\n",
              "    <tr>\n",
              "      <th>...</th>\n",
              "      <td>...</td>\n",
              "    </tr>\n",
              "    <tr>\n",
              "      <th>95</th>\n",
              "      <td>I've listened to several of Shakira's songs ov...</td>\n",
              "    </tr>\n",
              "    <tr>\n",
              "      <th>96</th>\n",
              "      <td>Social distancing is needed to keep us safe. S...</td>\n",
              "    </tr>\n",
              "    <tr>\n",
              "      <th>97</th>\n",
              "      <td>One of the fastest-growing AI applications is ...</td>\n",
              "    </tr>\n",
              "    <tr>\n",
              "      <th>98</th>\n",
              "      <td>Many people are going through a hard time--anx...</td>\n",
              "    </tr>\n",
              "    <tr>\n",
              "      <th>99</th>\n",
              "      <td>Kudos to  for his $1B donation for Covid-19 ef...</td>\n",
              "    </tr>\n",
              "  </tbody>\n",
              "</table>\n",
              "<p>100 rows × 1 columns</p>\n",
              "</div>"
            ],
            "text/plain": [
              "                                               Tweets\n",
              "0   Hoping this will more closely reflect ML appli...\n",
              "1   Would love your feedback on this: AI Systems =...\n",
              "2    Congrats  and the  team on this incredible re...\n",
              "3    _crowe _ Thanks  and congrats on finishing th...\n",
              "4   Thrilled  Machine Learning Engineering for Pro...\n",
              "..                                                ...\n",
              "95  I've listened to several of Shakira's songs ov...\n",
              "96  Social distancing is needed to keep us safe. S...\n",
              "97  One of the fastest-growing AI applications is ...\n",
              "98  Many people are going through a hard time--anx...\n",
              "99  Kudos to  for his $1B donation for Covid-19 ef...\n",
              "\n",
              "[100 rows x 1 columns]"
            ]
          },
          "metadata": {
            "tags": []
          },
          "execution_count": 11
        }
      ]
    },
    {
      "cell_type": "code",
      "metadata": {
        "colab": {
          "base_uri": "https://localhost:8080/",
          "height": 415
        },
        "id": "c6oiR9LQwT1y",
        "outputId": "914baa2a-c2e5-4622-846c-6cde9a67b9d5"
      },
      "source": [
        "#create a function to get the subjectivity\n",
        "def getSubjectivity(text):\n",
        "  return TextBlob(text).sentiment.subjectivity\n",
        "\n",
        "#create a function to get the polarity\n",
        "def getPolarity(text):\n",
        "  return TextBlob(text).sentiment.polarity\n",
        "\n",
        "#create new columns\n",
        "df['subjectivity'] = df['Tweets'].apply(getSubjectivity)\n",
        "df['polarity'] = df['Tweets'].apply(getPolarity)\n",
        "\n",
        "#show the new dataframe\n",
        "df"
      ],
      "execution_count": 12,
      "outputs": [
        {
          "output_type": "execute_result",
          "data": {
            "text/html": [
              "<div>\n",
              "<style scoped>\n",
              "    .dataframe tbody tr th:only-of-type {\n",
              "        vertical-align: middle;\n",
              "    }\n",
              "\n",
              "    .dataframe tbody tr th {\n",
              "        vertical-align: top;\n",
              "    }\n",
              "\n",
              "    .dataframe thead th {\n",
              "        text-align: right;\n",
              "    }\n",
              "</style>\n",
              "<table border=\"1\" class=\"dataframe\">\n",
              "  <thead>\n",
              "    <tr style=\"text-align: right;\">\n",
              "      <th></th>\n",
              "      <th>Tweets</th>\n",
              "      <th>subjectivity</th>\n",
              "      <th>polarity</th>\n",
              "    </tr>\n",
              "  </thead>\n",
              "  <tbody>\n",
              "    <tr>\n",
              "      <th>0</th>\n",
              "      <td>Hoping this will more closely reflect ML appli...</td>\n",
              "      <td>0.750000</td>\n",
              "      <td>0.500000</td>\n",
              "    </tr>\n",
              "    <tr>\n",
              "      <th>1</th>\n",
              "      <td>Would love your feedback on this: AI Systems =...</td>\n",
              "      <td>0.300000</td>\n",
              "      <td>0.240000</td>\n",
              "    </tr>\n",
              "    <tr>\n",
              "      <th>2</th>\n",
              "      <td>Congrats  and the  team on this incredible re...</td>\n",
              "      <td>0.670000</td>\n",
              "      <td>0.380000</td>\n",
              "    </tr>\n",
              "    <tr>\n",
              "      <th>3</th>\n",
              "      <td>_crowe _ Thanks  and congrats on finishing th...</td>\n",
              "      <td>0.344444</td>\n",
              "      <td>0.288889</td>\n",
              "    </tr>\n",
              "    <tr>\n",
              "      <th>4</th>\n",
              "      <td>Thrilled  Machine Learning Engineering for Pro...</td>\n",
              "      <td>0.550000</td>\n",
              "      <td>0.550000</td>\n",
              "    </tr>\n",
              "    <tr>\n",
              "      <th>...</th>\n",
              "      <td>...</td>\n",
              "      <td>...</td>\n",
              "      <td>...</td>\n",
              "    </tr>\n",
              "    <tr>\n",
              "      <th>95</th>\n",
              "      <td>I've listened to several of Shakira's songs ov...</td>\n",
              "      <td>0.375000</td>\n",
              "      <td>0.234375</td>\n",
              "    </tr>\n",
              "    <tr>\n",
              "      <th>96</th>\n",
              "      <td>Social distancing is needed to keep us safe. S...</td>\n",
              "      <td>0.341667</td>\n",
              "      <td>0.258333</td>\n",
              "    </tr>\n",
              "    <tr>\n",
              "      <th>97</th>\n",
              "      <td>One of the fastest-growing AI applications is ...</td>\n",
              "      <td>0.651136</td>\n",
              "      <td>0.402841</td>\n",
              "    </tr>\n",
              "    <tr>\n",
              "      <th>98</th>\n",
              "      <td>Many people are going through a hard time--anx...</td>\n",
              "      <td>0.421667</td>\n",
              "      <td>0.148333</td>\n",
              "    </tr>\n",
              "    <tr>\n",
              "      <th>99</th>\n",
              "      <td>Kudos to  for his $1B donation for Covid-19 ef...</td>\n",
              "      <td>0.494444</td>\n",
              "      <td>0.311111</td>\n",
              "    </tr>\n",
              "  </tbody>\n",
              "</table>\n",
              "<p>100 rows × 3 columns</p>\n",
              "</div>"
            ],
            "text/plain": [
              "                                               Tweets  subjectivity  polarity\n",
              "0   Hoping this will more closely reflect ML appli...      0.750000  0.500000\n",
              "1   Would love your feedback on this: AI Systems =...      0.300000  0.240000\n",
              "2    Congrats  and the  team on this incredible re...      0.670000  0.380000\n",
              "3    _crowe _ Thanks  and congrats on finishing th...      0.344444  0.288889\n",
              "4   Thrilled  Machine Learning Engineering for Pro...      0.550000  0.550000\n",
              "..                                                ...           ...       ...\n",
              "95  I've listened to several of Shakira's songs ov...      0.375000  0.234375\n",
              "96  Social distancing is needed to keep us safe. S...      0.341667  0.258333\n",
              "97  One of the fastest-growing AI applications is ...      0.651136  0.402841\n",
              "98  Many people are going through a hard time--anx...      0.421667  0.148333\n",
              "99  Kudos to  for his $1B donation for Covid-19 ef...      0.494444  0.311111\n",
              "\n",
              "[100 rows x 3 columns]"
            ]
          },
          "metadata": {
            "tags": []
          },
          "execution_count": 12
        }
      ]
    },
    {
      "cell_type": "code",
      "metadata": {
        "colab": {
          "base_uri": "https://localhost:8080/",
          "height": 248
        },
        "id": "S_UMosZAxef-",
        "outputId": "73345bd3-9942-4ddd-8b39-2f49fb899fa7"
      },
      "source": [
        "#ploting the word cloud\n",
        "allwords = ' '.join([twts for twts in df['Tweets']])\n",
        "wordCloud = WordCloud(width = 500, height = 300, random_state = 21, max_font_size = 119).generate(allwords)\n",
        "plt.imshow(wordCloud, interpolation='bilinear')\n",
        "plt.axis('off')\n",
        "plt.show()"
      ],
      "execution_count": 13,
      "outputs": [
        {
          "output_type": "display_data",
          "data": {
            "image/png": "[encoded data removed]",
            "text/plain": [
              "<Figure size 432x288 with 1 Axes>"
            ]
          },
          "metadata": {
            "tags": [],
            "needs_background": "light"
          }
        }
      ]
    },
    {
      "cell_type": "code",
      "metadata": {
        "colab": {
          "base_uri": "https://localhost:8080/",
          "height": 415
        },
        "id": "oYf0I6ncytoE",
        "outputId": "27a1cb87-bbba-42a4-cdac-d777f8474969"
      },
      "source": [
        "#create a function to compute positive, neutral and negative analysis\n",
        "def getAnalysis(score):\n",
        "  if score < 0:\n",
        "    return 'Negative'\n",
        "  elif score == 0:\n",
        "    return 'Neutral'\n",
        "  else:\n",
        "    return 'Positive'\n",
        "\n",
        "df['Analysis'] = df['polarity'].apply(getAnalysis)\n",
        "\n",
        "df"
      ],
      "execution_count": 14,
      "outputs": [
        {
          "output_type": "execute_result",
          "data": {
            "text/html": [
              "<div>\n",
              "<style scoped>\n",
              "    .dataframe tbody tr th:only-of-type {\n",
              "        vertical-align: middle;\n",
              "    }\n",
              "\n",
              "    .dataframe tbody tr th {\n",
              "        vertical-align: top;\n",
              "    }\n",
              "\n",
              "    .dataframe thead th {\n",
              "        text-align: right;\n",
              "    }\n",
              "</style>\n",
              "<table border=\"1\" class=\"dataframe\">\n",
              "  <thead>\n",
              "    <tr style=\"text-align: right;\">\n",
              "      <th></th>\n",
              "      <th>Tweets</th>\n",
              "      <th>subjectivity</th>\n",
              "      <th>polarity</th>\n",
              "      <th>Analysis</th>\n",
              "    </tr>\n",
              "  </thead>\n",
              "  <tbody>\n",
              "    <tr>\n",
              "      <th>0</th>\n",
              "      <td>Hoping this will more closely reflect ML appli...</td>\n",
              "      <td>0.750000</td>\n",
              "      <td>0.500000</td>\n",
              "      <td>Positive</td>\n",
              "    </tr>\n",
              "    <tr>\n",
              "      <th>1</th>\n",
              "      <td>Would love your feedback on this: AI Systems =...</td>\n",
              "      <td>0.300000</td>\n",
              "      <td>0.240000</td>\n",
              "      <td>Positive</td>\n",
              "    </tr>\n",
              "    <tr>\n",
              "      <th>2</th>\n",
              "      <td>Congrats  and the  team on this incredible re...</td>\n",
              "      <td>0.670000</td>\n",
              "      <td>0.380000</td>\n",
              "      <td>Positive</td>\n",
              "    </tr>\n",
              "    <tr>\n",
              "      <th>3</th>\n",
              "      <td>_crowe _ Thanks  and congrats on finishing th...</td>\n",
              "      <td>0.344444</td>\n",
              "      <td>0.288889</td>\n",
              "      <td>Positive</td>\n",
              "    </tr>\n",
              "    <tr>\n",
              "      <th>4</th>\n",
              "      <td>Thrilled  Machine Learning Engineering for Pro...</td>\n",
              "      <td>0.550000</td>\n",
              "      <td>0.550000</td>\n",
              "      <td>Positive</td>\n",
              "    </tr>\n",
              "    <tr>\n",
              "      <th>...</th>\n",
              "      <td>...</td>\n",
              "      <td>...</td>\n",
              "      <td>...</td>\n",
              "      <td>...</td>\n",
              "    </tr>\n",
              "    <tr>\n",
              "      <th>95</th>\n",
              "      <td>I've listened to several of Shakira's songs ov...</td>\n",
              "      <td>0.375000</td>\n",
              "      <td>0.234375</td>\n",
              "      <td>Positive</td>\n",
              "    </tr>\n",
              "    <tr>\n",
              "      <th>96</th>\n",
              "      <td>Social distancing is needed to keep us safe. S...</td>\n",
              "      <td>0.341667</td>\n",
              "      <td>0.258333</td>\n",
              "      <td>Positive</td>\n",
              "    </tr>\n",
              "    <tr>\n",
              "      <th>97</th>\n",
              "      <td>One of the fastest-growing AI applications is ...</td>\n",
              "      <td>0.651136</td>\n",
              "      <td>0.402841</td>\n",
              "      <td>Positive</td>\n",
              "    </tr>\n",
              "    <tr>\n",
              "      <th>98</th>\n",
              "      <td>Many people are going through a hard time--anx...</td>\n",
              "      <td>0.421667</td>\n",
              "      <td>0.148333</td>\n",
              "      <td>Positive</td>\n",
              "    </tr>\n",
              "    <tr>\n",
              "      <th>99</th>\n",
              "      <td>Kudos to  for his $1B donation for Covid-19 ef...</td>\n",
              "      <td>0.494444</td>\n",
              "      <td>0.311111</td>\n",
              "      <td>Positive</td>\n",
              "    </tr>\n",
              "  </tbody>\n",
              "</table>\n",
              "<p>100 rows × 4 columns</p>\n",
              "</div>"
            ],
            "text/plain": [
              "                                               Tweets  ...  Analysis\n",
              "0   Hoping this will more closely reflect ML appli...  ...  Positive\n",
              "1   Would love your feedback on this: AI Systems =...  ...  Positive\n",
              "2    Congrats  and the  team on this incredible re...  ...  Positive\n",
              "3    _crowe _ Thanks  and congrats on finishing th...  ...  Positive\n",
              "4   Thrilled  Machine Learning Engineering for Pro...  ...  Positive\n",
              "..                                                ...  ...       ...\n",
              "95  I've listened to several of Shakira's songs ov...  ...  Positive\n",
              "96  Social distancing is needed to keep us safe. S...  ...  Positive\n",
              "97  One of the fastest-growing AI applications is ...  ...  Positive\n",
              "98  Many people are going through a hard time--anx...  ...  Positive\n",
              "99  Kudos to  for his $1B donation for Covid-19 ef...  ...  Positive\n",
              "\n",
              "[100 rows x 4 columns]"
            ]
          },
          "metadata": {
            "tags": []
          },
          "execution_count": 14
        }
      ]
    },
    {
      "cell_type": "code",
      "metadata": {
        "colab": {
          "base_uri": "https://localhost:8080/"
        },
        "id": "_7strTP7zd5x",
        "outputId": "ad224252-013a-4040-9b36-02c6a588fc12"
      },
      "source": [
        "#print all the positive tweets\n",
        "j=1\n",
        "sortedDF = df.sort_values(by=['polarity'])\n",
        "for i in range(0,sortedDF.shape[0]):\n",
        "  if(sortedDF['Analysis'][i] == 'Positive'):\n",
        "    print(str(j) + ') '+sortedDF['Tweets'][i])\n",
        "    print()\n",
        "    j = j+1"
      ],
      "execution_count": 15,
      "outputs": [
        {
          "output_type": "stream",
          "text": [
            "1) Hoping this will more closely reflect ML application practice, and also spur innovative research on data-centric AI development. What do you think? (2/2)\n",
            "\n",
            "2) Would love your feedback on this: AI Systems = Code (model/algorithm) + Data. Most academic benchmarks/competitions hold the Data fixed, and let teams work on the Code. Thinking of organizing something where we hold the Code fixed, and ask teams to work on the Data. (1/2)\n",
            "\n",
            "3)  Congrats  and the  team on this incredible result! We need bots to be transparent about their identity and not pretend to be a human. Woebot's ability to form an emotional bond with people, while being honest and transparent, is exciting.\n",
            "\n",
            "4)  _crowe _ Thanks  and congrats on finishing the first course so quickly!\n",
            "\n",
            "5) Thrilled  Machine Learning Engineering for Production (MLOps) specialization is now available on Coursera! Learn to build &amp; deploy AI systems that run in production, and develop your production-ready skills:   _crowe\n",
            "\n",
            "6)  Brilliant points made by  - Need to shift focus from being model-centric to being data-centric. So true, data i…\n",
            "\n",
            "7) Whoops, sharing this late, but I'm proud Landing AI is in the CB Insights list of the 100 most promising AI startups!  \n",
            "\n",
            "8)  Argh, you're right. Computer vision to detect car damage is a great application of Image Wreck-ognition! \n",
            "\n",
            "9) Just updated the Deep Learning Specialization with the latest advances. This 2021 release goes up to Transformer Networks, and Prog Exercises are now in TF2. If you’re wondering whether to learn DL, this is a good time to jump in! Learn here: \n",
            "\n",
            "10) Let us always remember George Floyd, and keep fighting to make our society fair and just. BLM\n",
            "\n",
            "11) I stopped by 's campus for a dry run of the Coursera Conference, and the team surprised me with birthday cake! Thanks, ❤️ you all!!! \n",
            "\n",
            "12) This Sunday is my birthday! The best gift🎁 to me would be if you can watch this video and let me know what you think. \n",
            "\n",
            "Lets you and I work to shift AI from Model-Centric toward Data-Centric AI development, which will help many teams.\n",
            "\n",
            "13) Nice writeup by  on why I think we should move from model-centric AI development (where the emphasis is on improving models) toward DataCentricAI (where we systematically improve the data, using MLOps tools). \n",
            "\n",
            "14) When I think about what we can do to build a brighter future for our children, the most important thing is to create a foundation for education. Because education is knowledge. And knowledge is human progress. \n",
            "\n",
            "15)  1/3\n",
            "\n",
            "Check out this simple visual on the deployment of A.I. in healthcare: This is exactly why I’m subscribed to ‘The Batch’, th…\n",
            "\n",
            "16) Seeing these exuberant, cheering faces is a great reminder that Perseverance's technology success is also a human success. Way to go NASA! \n",
            "\n",
            "17) 126 million miles away, Perseverance decelerated from 12,000 miles/hour to 0 miles/hour to land safely. Great job  team!\n",
            "\n",
            "18) Bearing is using AI to streamline maritime shipping operations. The shipping industry is a good example of a large, older industry, where AI is well-suited to improve manual processes that have been around for decades. \n",
            "\n",
            "19) In 2021, what do you think is the single most important  problem that the AI community should be working on?\n",
            "\n",
            "20) I'm with  on this. There're some best-practices on creating and organizing data that experienced applied ML people use, but we still need to flesh out and widely disseminate these ideas. This will be key to getting more ML systems deployed. \n",
            "\n",
            "21) I just told my daughter that if we can have a woman VP in the White House, then she, too can do anything. Since she's 2 years old, she responded that she would like some chocolate.\n",
            "\n",
            "22) Here's to wishing President  and VP  the best! 🇺🇸 No matter where you're reading this, I hope their success will also be your success. ❤️\n",
            "\n",
            "23)  Does higher performance on ImageNet translate to higher performance on medical imaging tasks?\n",
            "\n",
            "Surprisingly, the answe…\n",
            "\n",
            "24) Today is Martin Luther King Jr. day. After the violence in the U.S. Capitol on Jan 6th, I am struck by how far MLK  advanced civil rights through nonviolent activism. Let us build on his legacy and keep finding peaceful ways to advance civil rights. \n",
            "\n",
            "25)  Excited to share our ICLR2021 paper w/ CS &amp; math depts  🎊\n",
            "\n",
            "Evaluating the Disentanglement of Deep Generative…\n",
            "\n",
            "26) Congrats  on really cool image generation result from a text+image prompt! Here's my favorite set of generated examples: \n",
            "\n",
            "27)       _Fund   Thanks . Yes I'm really proud of our Colombia team, and am very glad we have an office there!\n",
            "\n",
            "28) Happy New Year, friends! 🎉 2020 was a tough year for many, so lets make sure to build, support each other, and lift everyone up in 2021.\n",
            "\n",
            "29) This week's The Batch gives an overview of some major AI themes and stories we saw in 2020. Check it out! \n",
            "\n",
            "30)  Probably my favorite newsletter with exquisite content every week.\n",
            "\n",
            "From _, featuring .\n",
            "\n",
            "\"Essential ne…\n",
            "\n",
            "31) What rules regarding publishing papers would be fair, when it relates to work done by researchers working for companies? I ask this question in this week's The Batch, and would love to hear your thoughts.  \n",
            "\n",
            "32)  Together, we will build a world where the accomplishments of our daughters will be celebrated, rather than diminished.\n",
            "\n",
            "33) I'm backstage, watching a livestream of my own talk right now. Even though many of us are working from home, it's nice for so many worldwide to be able to gather together to talk about AI! NeurIPS2020 ML4H \n",
            "\n",
            "34) Thanks also to collaborators Kemen Austin, , _kelly, Ram Rajagopal, Rob Jackson, Zutao Yang, Ritesh Gautam, Mark Omara, , , &amp; students , Cooper Raterink, , , Chris Cross, Sasankh Munukutla, Shawn Zhang\n",
            "\n",
            "35) Indeed! Thank you  for giving my 2 year old daughter (who does not actually read) a 1000+ page text with a nice note encouraging her to pursue radiology as a career. Totally appropriate gift for an illiterate toddler.  😀 \n",
            "\n",
            "36) I talk about some factors that influence AI startup success in today’s The Batch: \n",
            "\n",
            "37) It's important for every government's civil service to understand AI. I'm encouraged by Canada's progress, and am grateful to the CSPS for having me! \n",
            "\n",
            "38) When HLP (human level performance) on an ML task is low, rather than just setting out to build a system to beat HLP, sometimes we should instead review of how the labels are defined, and this will lead to better performance. More details in today's The Batch letter. \n",
            "\n",
            "39)  Congratulations--looks like you're off to a great start!\n",
            "\n",
            "40)     Nice! I hope the next Andrew Ng will be a more advanced model. 😀\n",
            "\n",
            "41)   Thank you as always  and Samsung for supporting us!\n",
            "\n",
            "42) Thank you  for setting this wonderful example to my daughter Nova. As a father, I loved this thought. \n",
            "\n",
            "43) I'm relieved at the election outcome and grateful to so many that made it possible. Thank you to every election worker helping run a fair process. To the media that defended the truth. And to each of you that voted or spoke up for participating in this wonderful democracy. 🇺🇸\n",
            "\n",
            "44) This seems appropriate to retweet for Halloween. 🦸🏻 \n",
            "\n",
            "45) I wrote about LandingLens and its unique features in The Batch. AI has the problem of needing customization, which is why we need verticalized platforms like LandingLens to empower manufacturing &amp; other domain experts to build and deploy AI models.  \n",
            "\n",
            "46) I'm excited to announce 's LandingLens, a visual inspection platform to help manufacturers build and deploy visual inspection systems. We need to lower the bar to AI!  \n",
            "\n",
            "47) Fun article about my amazing father, who has completed 146 online courses! (I also talk about this in today's edition of _'s The Batch.) \n",
            "\n",
            "48) What are your favorite AI technology breakthroughs or demos from the past year? Would love to hear particularly if there's something you think not many others have heard of yet.\n",
            "\n",
            "49) The GANs Specialization by _ just launched on ! You’ll master foundational GAN concepts, build your own GAN to transfer image styles, implement state-of-the-art StyleGAN techniques, and more.  Check it out: \n",
            "\n",
            "50) Come join _ian, , Alexei Efros,  and me at GANs for Good, an online panel, next Wednesday Sep 30th! This is to celebrate the launch of _’s new GANs Specialization. You can sign up here: \n",
            "\n",
            "51) _ian, , Alexei Efros,  and I will be speaking at GANs for Good, an online panel, on September 30th. This is to celebrate the launch of _’s new GANs Specialization. Come join us!  \n",
            "\n",
            "52) Thanks to everyone that replied to my question on what the AI community should work on. I think if we come together as a community we can make better progress. I wrote about this in The Batch today (reposted here). Would love to hear your thoughts! \n",
            "\n",
            "53) More companies should tell employees it's fine if your kids  show up on Zoom when you're working from home. This isn't a sign of someone being unprofessional. This is a sign  that you're a human being.\n",
            "\n",
            "54) What do you think is the single most important problem that the AI community should be working on?\n",
            "\n",
            "55)  Sounds like a good application for the kernel method.\n",
            "\n",
            "56) Ken Church, Marti Hearst, ,  &amp; I will speak at Break into NLP, a virtual live event on July 29 at 10am PDT, to mark the launch of Course 3 of the _ NLP Specialization. Come join us!  \n",
            "\n",
            "57) Wonderful! Kudos to Harvard and MIT for fighting this in court, as well as to everyone that spoke up against the new ICE rules. \n",
            "\n",
            "58) I'm grateful for Dr. Fauci's tireless work to disseminate good science about the pandemic. \n",
            "\n",
            "When we see a scientist unfairly attacked, we need to speak up. It is by doing so that we defend not just the scientist, but also the scientific process.\n",
            "\n",
            "IStandWithFauci\n",
            "\n",
            "59) I wrote in today's edition of The Batch about the new F-1 visa policy, and want to share that message here as well. StudentBan \n",
            "\n",
            "60)  ⁦⁩’s the batch is consistently my favourite weekly newsletter and one I always can’t wait to get my hands on. \n",
            "\n",
            "It’s…\n",
            "\n",
            "61)  New publication!\n",
            "\n",
            "We apply machine learning to predict response to antidepressant treatments in patients with major de…\n",
            "\n",
            "62) Happy Juneteenth! Raising awareness this past month on Black lives matter was important. But what’s next is even more important: that we keep supporting it even years from now when it’s not a trending twitter topic. Racial justice will take years; lets be in it for the long haul.\n",
            "\n",
            "63) Our new Natural Language Processing Specialization’s first two courses are now on ! You’ll build your technical foundations and work on projects ranging from sentiment analysis to language modeling to autocomplete. Check it out: \n",
            " \n",
            "\n",
            "64) Congratulations the Stanford2020 class that just graduated today! An online commencement wasn't what anyone had envisioned, but I am excited to see what you will accomplish and the contributions you'll make to this chaotic world. Proud of all of you! \n",
            "\n",
            "65)  University &amp; college students can now learn in-demand career skills for free with full access to Coursera’s 3,800 courses, Gu…\n",
            "\n",
            "66) Getting to widespread AI adoption outside tech companies means solving new challenges. For example, we still need to get better at bridging Proof of Concept (PoC) and production. Here are my thoughts:   \n",
            "\n",
            "67) I'm really enjoying the new ICLR2020 website, and am having fun browsing the workshop &amp; poster talks. Congrats to the organizers and speakers on what's happening so far in this all-virtual conference! Great job! _nlp _za    et al. \n",
            "\n",
            "68) My grandparents had many stories of helping neighbors during  World War II, a defining time for them. When some day we are telling our own grandchildren about World Pandemic I, I hope all of us will have stories of our actions during this time that we can be proud of.\n",
            "\n",
            "69) I've listened to several of Shakira's songs over the years. So I was excited to see she just finished a UPenn course on ! \n",
            "\n",
            "70) Social distancing is needed to keep us safe. So  created this AI tool to help our customers in essential industries maintain SocialDistancing in the workplace. We  hope many people can benefit from these ideas.  \n",
            "\n",
            "71) One of the fastest-growing AI applications is medicine. I'm excited to announce Courses 1&amp;2 of _‘s new AI For Medicine Specialization are now available on ! You’ll learn to diagnose from X-rays and build your own prognostic models: \n",
            "\n",
            "72) Many people are going through a hard time--anxious about the situation, financial worries, loneliness--because of Covid-19 and social distancing. I’m really glad that the  team has been working to help. \n",
            "\n",
            "73) Kudos to  for his $1B donation for Covid-19 efforts. He's one of the people I really admire--in addition to being a skilled executive, he's also a decent human being that cares about others. Today's world needs more leaders like Jack, and I'm glad he's leading Twitter.\n",
            "\n"
          ],
          "name": "stdout"
        }
      ]
    },
    {
      "cell_type": "code",
      "metadata": {
        "id": "Jg-dC96I1Hc8",
        "colab": {
          "base_uri": "https://localhost:8080/"
        },
        "outputId": "5233bf30-eb0c-49e5-d8fe-5198d44906d7"
      },
      "source": [
        "#print the negative tweets\n",
        "j=1\n",
        "sortedDF = df.sort_values(by=['polarity'])\n",
        "for i in range(0,sortedDF.shape[0]):\n",
        "  if(sortedDF['Analysis'][i] == 'Negative'):\n",
        "    print(str(j) + ') '+sortedDF['Tweets'][i])\n",
        "    print()\n",
        "    j=j+1"
      ],
      "execution_count": 16,
      "outputs": [
        {
          "output_type": "stream",
          "text": [
            "1) We just reached the milestone of 10.0% of the U.S. receiving at least one vaccine shot! 🎉 We still have to stay vigilant, but here's to hoping for continued progress against Covid for all nations and to defeating the pandemic. 😷 \n",
            "\n",
            "2) Democracy has taken a lot of damage recently. Last Wednesday was a nadir for the U.S., and the path back will be long and hard. But I believe the country has reached a turning point. Here're my thoughts on the role AI can play to support democracy. \n",
            "\n",
            "3) U.S. democracy is going through a dark day today with the Capitol building breached. But we will get through this, democracy will prevail, and we will learn from this  and strengthen our nation against future assaults. 🇺🇸\n",
            "\n",
            "4)  That I'd look back a year later at every moment of this period with my daughter--including the sleepless parts, the messy and dirty parts, the frustrating parts, and the confusing parts--and feel incredibly grateful for this lovely experience. ❤️\n",
            "\n",
            "5) Dismayed at  article's insulting, baseless and senseless challenge to Dr. Jill Biden's credentials. Dr. Biden earned her doctorate studying the important problem of student retention in community colleges. We need more scholars like her. \n",
            "\n",
            "6) You can also find this week's and previous editions of The Batch here: \n",
            "\n",
            "7)  Coursera’s GlobalSkillsIndex 2020 is here! See how your country and industry rank in essential skills across business, techn…\n",
            "\n",
            "8) New  policy regarding F-1 visa international students is horrible &amp; will hurt the US, students, and universities. Pushes universities to offer in-person classes even if unsafe or no pedagogical benefit, or students to leave US amidst pandemic and risk inability to return.\n",
            "\n",
            "9) The suspension of the H1B visa program is bad for the US, bad for innovation, and will shatter dreams and disrupt lives. As a former H1B visa holder, my heart goes out to all the families affected.\n",
            "\n"
          ],
          "name": "stdout"
        }
      ]
    },
    {
      "cell_type": "code",
      "metadata": {
        "colab": {
          "base_uri": "https://localhost:8080/",
          "height": 405
        },
        "id": "1wZEa0YY2tdT",
        "outputId": "f40cd0db-b244-4414-c7c0-b4f438a6e33f"
      },
      "source": [
        "#ploting the polarity and subjectivity\n",
        "plt.figure(figsize=(8,6))\n",
        "for i in range(0,df.shape[0]):\n",
        "  plt.scatter(df['polarity'][i],df['subjectivity'][i],color='Blue')\n",
        "\n",
        "plt.title('Sentiment Analysis')\n",
        "plt.xlabel('Polarity')\n",
        "plt.ylabel('Subjectivity')\n",
        "plt.show()"
      ],
      "execution_count": 17,
      "outputs": [
        {
          "output_type": "display_data",
          "data": {
            "image/png": "[encoded data removed]",
            "text/plain": [
              "<Figure size 576x432 with 1 Axes>"
            ]
          },
          "metadata": {
            "tags": [],
            "needs_background": "light"
          }
        }
      ]
    },
    {
      "cell_type": "code",
      "metadata": {
        "colab": {
          "base_uri": "https://localhost:8080/"
        },
        "id": "TCjHtifD4Dag",
        "outputId": "c3f14b2e-e700-409b-c526-f0a9204711d3"
      },
      "source": [
        "#get the percentage of positive tweets\n",
        "ptweets = df[df.Analysis == 'Positive']\n",
        "ptweets = ptweets['Tweets']\n",
        "\n",
        "round((ptweets.shape[0]/df.shape[0])*100,1)"
      ],
      "execution_count": 18,
      "outputs": [
        {
          "output_type": "execute_result",
          "data": {
            "text/plain": [
              "73.0"
            ]
          },
          "metadata": {
            "tags": []
          },
          "execution_count": 18
        }
      ]
    },
    {
      "cell_type": "code",
      "metadata": {
        "colab": {
          "base_uri": "https://localhost:8080/"
        },
        "id": "mvL53rWa4iqM",
        "outputId": "ba319a20-30e0-44bc-eaf1-d41346cee44d"
      },
      "source": [
        "#get the percentage of negative tweets\n",
        "ntweets = df[df.Analysis == 'Negative']\n",
        "ntweets = ntweets['Tweets']\n",
        "\n",
        "round((ntweets.shape[0]/df.shape[0])*100,1)"
      ],
      "execution_count": 19,
      "outputs": [
        {
          "output_type": "execute_result",
          "data": {
            "text/plain": [
              "9.0"
            ]
          },
          "metadata": {
            "tags": []
          },
          "execution_count": 19
        }
      ]
    },
    {
      "cell_type": "code",
      "metadata": {
        "colab": {
          "base_uri": "https://localhost:8080/",
          "height": 331
        },
        "id": "hSs_IGEe5gru",
        "outputId": "e72448cc-cb0e-434f-8d8c-fafdc5938434"
      },
      "source": [
        "#show the value counts\n",
        "\n",
        "df['Analysis'].value_counts()\n",
        "\n",
        "#plot and visulize the counts\n",
        "plt.title('sentiment analysis')\n",
        "plt.xlabel('sentiment')\n",
        "plt.ylabel('counts')\n",
        "df['Analysis'].value_counts().plot(kind='bar')\n",
        "plt.show()"
      ],
      "execution_count": 20,
      "outputs": [
        {
          "output_type": "display_data",
          "data": {
            "image/png": "[encoded data removed]",
            "text/plain": [
              "<Figure size 432x288 with 1 Axes>"
            ]
          },
          "metadata": {
            "tags": [],
            "needs_background": "light"
          }
        }
      ]
    }
  ]
}